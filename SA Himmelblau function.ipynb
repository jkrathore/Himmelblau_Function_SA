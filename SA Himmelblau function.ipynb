{
 "cells": [
  {
   "cell_type": "markdown",
   "metadata": {},
   "source": [
    "Himmelblau function\n",
    "\n",
    "z = (x^2 + y - 11)^2 + (x + y^2 - 7)^2\n",
    "\n",
    "x and y lie between -6 to 6\n",
    "\n",
    "Minimzed z = 0.00"
   ]
  },
  {
   "cell_type": "code",
   "execution_count": 25,
   "metadata": {},
   "outputs": [],
   "source": [
    "import numpy as np\n",
    "import matplotlib.pyplot as plt"
   ]
  },
  {
   "cell_type": "code",
   "execution_count": 26,
   "metadata": {},
   "outputs": [],
   "source": [
    "x0 = 2\n",
    "y0 = 1"
   ]
  },
  {
   "cell_type": "code",
   "execution_count": 27,
   "metadata": {},
   "outputs": [],
   "source": [
    "k = 0.1              # move operator\n",
    "T0 = 1000            # initial temperature\n",
    "M = 300              # number of temperature\n",
    "N =15                # number of movement \n",
    "alpha = 0.85         # cooling rate"
   ]
  },
  {
   "cell_type": "code",
   "execution_count": 28,
   "metadata": {},
   "outputs": [],
   "source": [
    "z_int = (x0**2 + y0 - 11)**2 + (x0 + (y0**2) - 7)**2"
   ]
  },
  {
   "cell_type": "code",
   "execution_count": 29,
   "metadata": {},
   "outputs": [
    {
     "name": "stdout",
     "output_type": "stream",
     "text": [
      "Initial X is 2.000\n",
      "Initial Y is 1.000\n",
      "Initial Z is 52.000\n"
     ]
    }
   ],
   "source": [
    "print(\"Initial X is %.3f\" % x0)\n",
    "print(\"Initial Y is %.3f\" % y0)\n",
    "print(\"Initial Z is %.3f\" % z_int)"
   ]
  },
  {
   "cell_type": "code",
   "execution_count": 30,
   "metadata": {},
   "outputs": [],
   "source": [
    "temp = []\n",
    "min_z = []"
   ]
  },
  {
   "cell_type": "code",
   "execution_count": 31,
   "metadata": {},
   "outputs": [
    {
     "name": "stdout",
     "output_type": "stream",
     "text": [
      "X is 2.998\n",
      "Y is 2.002\n",
      "Final OF is 0.000\n"
     ]
    },
    {
     "name": "stderr",
     "output_type": "stream",
     "text": [
      "C:\\Users\\jitendra.j.kumar3\\AppData\\Local\\Continuum\\anaconda3\\lib\\site-packages\\ipykernel_launcher.py:29: RuntimeWarning: overflow encountered in exp\n",
      "C:\\Users\\jitendra.j.kumar3\\AppData\\Local\\Continuum\\anaconda3\\lib\\site-packages\\ipykernel_launcher.py:29: RuntimeWarning: divide by zero encountered in double_scalars\n"
     ]
    }
   ],
   "source": [
    "for i in range(M):\n",
    "    for j in range(N):\n",
    "        xt = 0\n",
    "        yt = 0\n",
    "        \n",
    "        ran_x_1 = np.random.rand()\n",
    "        ran_x_2 = np.random.rand()\n",
    "        ran_y_1 = np.random.rand()\n",
    "        ran_y_2 = np.random.rand()\n",
    "        \n",
    "        if ran_x_1 >= 0.5:\n",
    "            x1 = k*ran_x_2\n",
    "        else:\n",
    "            x1 = -k*ran_x_2\n",
    "        \n",
    "        if ran_y_1 >= 0.5:\n",
    "            y1 = k*ran_y_2\n",
    "        else:\n",
    "            y1 = -k*ran_y_2\n",
    "        \n",
    "        xt = x0+x1\n",
    "        yt = y0+y1\n",
    "        \n",
    "        of_new = (xt**2 + yt - 11)**2 + (xt + (yt**2) - 7)**2\n",
    "        \n",
    "        of_current = (x0**2 + y0 - 11)**2 + (x0 + (y0**2) - 7)**2\n",
    "        \n",
    "        ran_1 = np.random.rand()\n",
    "        form = 1/(np.exp((of_new-of_current)/T0))\n",
    "        \n",
    "        if of_new <= of_current:\n",
    "            x0 = xt\n",
    "            y0 = yt\n",
    "        elif ran_1 <= form:\n",
    "            x0 = xt\n",
    "            y0 = yt\n",
    "        else:\n",
    "            x0 = x0\n",
    "            y0 = y0\n",
    "    \n",
    "    temp = np.append(temp,T0)\n",
    "    min_z = np.append(min_z, of_current)\n",
    "    T0 = alpha*T0\n",
    "    \n",
    "print(\"X is %.3f\" % x0)\n",
    "print(\"Y is %.3f\" % y0)\n",
    "print(\"Final OF is %.3f\" % of_current)\n",
    "                "
   ]
  },
  {
   "cell_type": "code",
   "execution_count": 32,
   "metadata": {},
   "outputs": [
    {
     "data": {
      "image/png": "[encoded data removed]",
      "text/plain": [
       "<matplotlib.figure.Figure at 0x249d512ce48>"
      ]
     },
     "metadata": {},
     "output_type": "display_data"
    }
   ],
   "source": [
    "plt.plot(temp, min_z)\n",
    "plt.title(\"Z vs. Temp.\", fontsize = 20, fontweight = 'bold')\n",
    "plt.xlabel(\"Temp.\", fontsize = 18, fontweight = 'bold')\n",
    "plt.ylabel(\"Z\", fontsize = 18, fontweight = 'bold')\n",
    "plt.xlim(1000,0)\n",
    "plt.xticks(np.arange(min(temp), max(temp), 100), fontweight = 'bold')\n",
    "plt.yticks(fontweight = 'bold')\n",
    "plt.show()"
   ]
  },
  {
   "cell_type": "code",
   "execution_count": null,
   "metadata": {},
   "outputs": [],
   "source": []
  }
 ],
 "metadata": {
  "kernelspec": {
   "display_name": "Python 3",
   "language": "python",
   "name": "python3"
  },
  "language_info": {
   "codemirror_mode": {
    "name": "ipython",
    "version": 3
   },
   "file_extension": ".py",
   "mimetype": "text/x-python",
   "name": "python",
   "nbconvert_exporter": "python",
   "pygments_lexer": "ipython3",
   "version": "3.6.4"
  }
 },
 "nbformat": 4,
 "nbformat_minor": 2
}
